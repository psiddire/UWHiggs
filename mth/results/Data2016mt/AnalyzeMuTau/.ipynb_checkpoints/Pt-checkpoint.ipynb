{
 "cells": [
  {
   "cell_type": "code",
   "execution_count": 1,
   "metadata": {},
   "outputs": [
    {
     "name": "stdout",
     "output_type": "stream",
     "text": [
      "Welcome to JupyROOT 6.12/07\n"
     ]
    }
   ],
   "source": [
    "import os\n",
    "from sys import argv, stdout, stderr\n",
    "from ROOT import TFile, gROOT, TCanvas, TLegend\n",
    "import sys                                                                                                                                                                                                                                                  \n",
    "gROOT.SetStyle(\"Plain\")                                                                                                                                                                                                                                           \n",
    "gROOT.SetBatch(True)"
   ]
  },
  {
   "cell_type": "code",
   "execution_count": 2,
   "metadata": {},
   "outputs": [],
   "source": [
    "def positivize(histogram):\n",
    "    output = histogram.Clone()\n",
    "    for i in range(output.GetSize()):\n",
    "        if output.GetArray()[i] < 0:\n",
    "            output.AddAt(0, i)\n",
    "    return output"
   ]
  },
  {
   "cell_type": "code",
   "execution_count": 7,
   "metadata": {},
   "outputs": [],
   "source": [
    "canvas = TCanvas(\"\", \"\", 800, 800)\n",
    "f = TFile('GluGlu_LFV_HToMuTau_M125_13TeV_powheg_pythia8_v3-PUMoriond17_94X_mcRun2_asymptotic_v3-v2.root')\n",
    "h1 = f.Get('TightOS0Jet/m_t_Mass')\n",
    "h2 = f.Get('TightOS0Jet/m_t_CollinearMass')\n",
    "h2.SetLineColor(2)\n",
    "h1.Draw()\n",
    "canvas.Draw()"
   ]
  },
  {
   "cell_type": "code",
   "execution_count": null,
   "metadata": {},
   "outputs": [],
   "source": []
  }
 ],
 "metadata": {
  "kernelspec": {
   "display_name": "Python 2",
   "language": "python",
   "name": "python2"
  },
  "language_info": {
   "codemirror_mode": {
    "name": "ipython",
    "version": 2
   },
   "file_extension": ".py",
   "mimetype": "text/x-python",
   "name": "python",
   "nbconvert_exporter": "python",
   "pygments_lexer": "ipython2",
   "version": "2.7.14+"
  }
 },
 "nbformat": 4,
 "nbformat_minor": 2
}
