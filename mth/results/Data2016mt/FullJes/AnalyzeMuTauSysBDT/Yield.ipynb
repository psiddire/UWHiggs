{
 "cells": [
  {
   "cell_type": "code",
   "execution_count": 1,
   "metadata": {},
   "outputs": [
    {
     "name": "stdout",
     "output_type": "stream",
     "text": [
      "Welcome to JupyROOT 6.12/07\n"
     ]
    }
   ],
   "source": [
    "import os\n",
    "from sys import argv, stdout, stderr\n",
    "from ROOT import TFile, gROOT, TCanvas, TLegend\n",
    "import array\n",
    "import sys                                                                                                                                                                                                                                                  \n",
    "gROOT.SetStyle(\"Plain\")                                                                                                                                                                                                                                           \n",
    "gROOT.SetBatch(True)"
   ]
  },
  {
   "cell_type": "code",
   "execution_count": 2,
   "metadata": {},
   "outputs": [],
   "source": [
    "def positivize(histogram):\n",
    "    output = histogram.Clone()\n",
    "    for i in range(output.GetSize()):\n",
    "        if output.GetArray()[i] < 0:\n",
    "            output.AddAt(0, i)\n",
    "    return output"
   ]
  },
  {
   "cell_type": "code",
   "execution_count": 8,
   "metadata": {},
   "outputs": [
    {
     "name": "stdout",
     "output_type": "stream",
     "text": [
      "9.0\n"
     ]
    }
   ],
   "source": [
    "f = TFile(\"QCD_Pt-20toInf_MuEnrichedPt15_TuneCP5_13TeV_pythia8_v14-v1.root\")\n",
    "h = f.Get('TightOS1Jet/bdtDiscriminator')\n",
    "binning = array.array('d', [-1.0, -0.65, -0.5, -0.4, -0.3, -0.2, -0.1, -0.05, 0.0, 0.05, 0.1, 0.15, 0.2, 0.25, 1.0])\n",
    "h = h.Rebin(len(binning)-1, 'data_obs', binning)\n",
    "print h.GetBinContent(13)"
   ]
  },
  {
   "cell_type": "code",
   "execution_count": 20,
   "metadata": {},
   "outputs": [
    {
     "name": "stdout",
     "output_type": "stream",
     "text": [
      "40389.0864634\n",
      "40398.4806465\n",
      "40389.2222604\n",
      "40737.2157587\n",
      "40094.7777647\n"
     ]
    }
   ],
   "source": [
    "QCD = TFile(\"QCD_Pt-20toInf_MuEnrichedPt15_TuneCP5_13TeV_pythia8_v14-v1.root\")\n",
    "MC = TFile(\"MC.root\")\n",
    "\n",
    "tfakes = QCD.Get('TauLooseOS0Jet/bdtDiscriminator')                                                                                                                                                                                                                     \n",
    "mfakes = QCD.Get('MuonLooseOS0Jet/bdtDiscriminator')                                                                                                                                                                                                                    \n",
    "mtfakes = QCD.Get('MuonLooseTauLooseOS0Jet/bdtDiscriminator')                                                                                                                                                                                                           \n",
    "qcd = tfakes.Clone()                                                                                                                                                                                                                                                      \n",
    "qcd.Add(mfakes)                                                                                                                                                                                                                                                           \n",
    "qcd.Add(mtfakes, -1)                                                                                                                                                                                                                                                                                                                                                                                                           \n",
    "tfakes_mc = MC.Get('TauLooseOS0Jet/bdtDiscriminator')                                                                                                                                                                                                                   \n",
    "mfakes_mc = MC.Get('MuonLooseOS0Jet/bdtDiscriminator')                                                                                                                                                                                                                  \n",
    "mtfakes_mc = MC.Get('MuonLooseTauLooseOS0Jet/bdtDiscriminator')                                                                                                                                                                                                         \n",
    "mc = tfakes_mc.Clone()                                                                                                                                                                                                                                                    \n",
    "mc.Add(mfakes_mc)                                                                                                                                                                                                                                                         \n",
    "mc.Add(mtfakes_mc, -1)                                                                                                                                                                                                                                                    \n",
    "mc = positivize(mc)                                                                                                                                                                                                                                                 \n",
    "qcd.Add(mc, -1)                                                                                                                                                                                                                                                           \n",
    "qcd = positivize(qcd)\n",
    "print qcd.Integral()\n",
    "\n",
    "mfakes = QCD.Get('MuonLooseOS0Jet/MuonFakep0Up/bdtDiscriminator')                                                                                                                                                                                                                    \n",
    "mtfakes = QCD.Get('MuonLooseTauLooseOS0Jet/MuonFakep0Up/bdtDiscriminator')                                                                                                                                                                                                           \n",
    "qcd = tfakes.Clone()                                                                                                                                                                                                                                                      \n",
    "qcd.Add(mfakes)                                                                                                                                                                                                                                                           \n",
    "qcd.Add(mtfakes, -1)                                                                                                                                                                                                                                                                                                                                                                                                           \n",
    "mfakes_mc = MC.Get('MuonLooseOS0Jet/MuonFakep0Up/bdtDiscriminator')                                                                                                                                                                                                                  \n",
    "mtfakes_mc = MC.Get('MuonLooseTauLooseOS0Jet/MuonFakep0Up/bdtDiscriminator')                                                                                                                                                                                                         \n",
    "mc = tfakes_mc.Clone()                                                                                                                                                                                                                                                    \n",
    "mc.Add(mfakes_mc)                                                                                                                                                                                                                                                         \n",
    "mc.Add(mtfakes_mc, -1)                                                                                                                                                                                                                                                    \n",
    "mc = positivize(mc)                                                                                                                                                                                                                                                 \n",
    "qcd.Add(mc, -1)                                                                                                                                                                                                                                                           \n",
    "qcd1 = positivize(qcd)\n",
    "print qcd1.Integral()\n",
    "\n",
    "mfakes = QCD.Get('MuonLooseOS0Jet/MuonFakep0Down/bdtDiscriminator')                                                                                                                                                                                                                    \n",
    "mtfakes = QCD.Get('MuonLooseTauLooseOS0Jet/MuonFakep0Down/bdtDiscriminator')                                                                                                                                                                                                           \n",
    "qcd = tfakes.Clone()                                                                                                                                                                                                                                                      \n",
    "qcd.Add(mfakes)                                                                                                                                                                                                                                                           \n",
    "qcd.Add(mtfakes, -1)                                                                                                                                                                                                                                                                                                                                                                                                           \n",
    "mfakes_mc = MC.Get('MuonLooseOS0Jet/MuonFakep0Down/bdtDiscriminator')                                                                                                                                                                                                                  \n",
    "mtfakes_mc = MC.Get('MuonLooseTauLooseOS0Jet/MuonFakep0Down/bdtDiscriminator')                                                                                                                                                                                                         \n",
    "mc = tfakes_mc.Clone()                                                                                                                                                                                                                                                    \n",
    "mc.Add(mfakes_mc)                                                                                                                                                                                                                                                         \n",
    "mc.Add(mtfakes_mc, -1)                                                                                                                                                                                                                                                    \n",
    "mc = positivize(mc)                                                                                                                                                                                                                                                 \n",
    "qcd.Add(mc, -1)                                                                                                                                                                                                                                                           \n",
    "qcd2 = positivize(qcd)\n",
    "print qcd2.Integral()\n",
    "\n",
    "mfakes = QCD.Get('MuonLooseOS0Jet/MuonFakep1Up/bdtDiscriminator')                                                                                                                                                                                                                    \n",
    "mtfakes = QCD.Get('MuonLooseTauLooseOS0Jet/bdtDiscriminator')                                                                                                                                                                                                           \n",
    "qcd = tfakes.Clone()                                                                                                                                                                                                                                                      \n",
    "qcd.Add(mfakes)                                                                                                                                                                                                                                                           \n",
    "qcd.Add(mtfakes, -1)                                                                                                                                                                                                                                                                                                                                                                                                           \n",
    "mfakes_mc = MC.Get('MuonLooseOS0Jet/MuonFakep1Up/bdtDiscriminator')                                                                                                                                                                                                                  \n",
    "mtfakes_mc = MC.Get('MuonLooseTauLooseOS0Jet/bdtDiscriminator')                                                                                                                                                                                                         \n",
    "mc = tfakes_mc.Clone()                                                                                                                                                                                                                                                    \n",
    "mc.Add(mfakes_mc)                                                                                                                                                                                                                                                         \n",
    "mc.Add(mtfakes_mc, -1)                                                                                                                                                                                                                                                    \n",
    "mc = positivize(mc)                                                                                                                                                                                                                                                 \n",
    "qcd.Add(mc, -1)                                                                                                                                                                                                                                                           \n",
    "qcd3 = positivize(qcd)\n",
    "print qcd3.Integral()\n",
    "\n",
    "mfakes = QCD.Get('MuonLooseOS0Jet/MuonFakep1Down/bdtDiscriminator')                                                                                                                                                                                                                    \n",
    "mtfakes = QCD.Get('MuonLooseTauLooseOS0Jet/bdtDiscriminator')                                                                                                                                                                                                           \n",
    "qcd = tfakes.Clone()                                                                                                                                                                                                                                                      \n",
    "qcd.Add(mfakes)                                                                                                                                                                                                                                                           \n",
    "qcd.Add(mtfakes, -1)                                                                                                                                                                                                                                                                                                                                                                                                           \n",
    "mfakes_mc = MC.Get('MuonLooseOS0Jet/MuonFakep1Down/bdtDiscriminator')                                                                                                                                                                                                                  \n",
    "mtfakes_mc = MC.Get('MuonLooseTauLooseOS0Jet/bdtDiscriminator')                                                                                                                                                                                                         \n",
    "mc = tfakes_mc.Clone()                                                                                                                                                                                                                                                    \n",
    "mc.Add(mfakes_mc)                                                                                                                                                                                                                                                         \n",
    "mc.Add(mtfakes_mc, -1)                                                                                                                                                                                                                                                    \n",
    "mc = positivize(mc)                                                                                                                                                                                                                                                 \n",
    "qcd.Add(mc, -1)                                                                                                                                                                                                                                                           \n",
    "qcd4 = positivize(qcd)\n",
    "print qcd4.Integral()"
   ]
  },
  {
   "cell_type": "code",
   "execution_count": null,
   "metadata": {},
   "outputs": [],
   "source": []
  },
  {
   "cell_type": "code",
   "execution_count": 58,
   "metadata": {},
   "outputs": [],
   "source": [
    "import math\n",
    "def truncate(number, digits):\n",
    "    stepper = 10.0 ** digits\n",
    "    return math.trunc(stepper * number) / stepper"
   ]
  },
  {
   "cell_type": "code",
   "execution_count": 3,
   "metadata": {},
   "outputs": [
    {
     "name": "stdout",
     "output_type": "stream",
     "text": [
      "72512.6047475\n",
      "72512.6037622\n",
      "72512.6058363\n"
     ]
    }
   ],
   "source": [
    "f = TFile(\"MC.root\")\n",
    "h = f.Get('TightOS0Jet/bdtDiscriminator')                                                                                                                                                                                                                     \n",
    "h1 = f.Get('TightOS0Jet/scaletDM0Up/bdtDiscriminator')                                                                                                                                                                                                                     \n",
    "h2 = f.Get('TightOS0Jet/scaletDM0Down/bdtDiscriminator')                                                                                                                                                                                                                     \n",
    "print h.Integral()\n",
    "print h1.Integral()\n",
    "print h2.Integral()"
   ]
  },
  {
   "cell_type": "code",
   "execution_count": 16,
   "metadata": {},
   "outputs": [
    {
     "name": "stdout",
     "output_type": "stream",
     "text": [
      "3149.97443299\n",
      "3149.97441335\n",
      "3149.97444321\n"
     ]
    }
   ],
   "source": [
    "h = f.Get('TightOS0Jet/bdtDiscriminator')                                                                                                                                                                                                                     \n",
    "h1 = f.Get('TightOS0Jet/UesCHARGEDUp/bdtDiscriminator')                                                                                                                                                                                                                     \n",
    "h2 = f.Get('TightOS0Jet/UesCHARGEDDown/bdtDiscriminator')                                                                                                                                                                                                                     \n",
    "print h.Integral()\n",
    "print h1.Integral()\n",
    "print h2.Integral()"
   ]
  },
  {
   "cell_type": "code",
   "execution_count": 17,
   "metadata": {},
   "outputs": [
    {
     "name": "stdout",
     "output_type": "stream",
     "text": [
      "3149.97443299\n",
      "3149.97442516\n",
      "3149.97450888\n"
     ]
    }
   ],
   "source": [
    "h = f.Get('TightOS0Jet/bdtDiscriminator')                                                                                                                                                                                                                     \n",
    "h1 = f.Get('TightOS0Jet/UesHCALUp/bdtDiscriminator')                                                                                                                                                                                                                     \n",
    "h2 = f.Get('TightOS0Jet/UesHCALDown/bdtDiscriminator')                                                                                                                                                                                                                     \n",
    "print h.Integral()\n",
    "print h1.Integral()\n",
    "print h2.Integral()"
   ]
  },
  {
   "cell_type": "code",
   "execution_count": 18,
   "metadata": {},
   "outputs": [
    {
     "name": "stdout",
     "output_type": "stream",
     "text": [
      "3149.97443299\n",
      "3149.97445217\n",
      "3149.97441381\n"
     ]
    }
   ],
   "source": [
    "h = f.Get('TightOS0Jet/bdtDiscriminator')                                                                                                                                                                                                                     \n",
    "h1 = f.Get('TightOS0Jet/UesHFUp/bdtDiscriminator')                                                                                                                                                                                                                     \n",
    "h2 = f.Get('TightOS0Jet/UesHFDown/bdtDiscriminator')                                                                                                                                                                                                                     \n",
    "print h.Integral()\n",
    "print h1.Integral()\n",
    "print h2.Integral()"
   ]
  },
  {
   "cell_type": "code",
   "execution_count": null,
   "metadata": {},
   "outputs": [],
   "source": []
  }
 ],
 "metadata": {
  "kernelspec": {
   "display_name": "Python 2",
   "language": "python",
   "name": "python2"
  },
  "language_info": {
   "codemirror_mode": {
    "name": "ipython",
    "version": 2
   },
   "file_extension": ".py",
   "mimetype": "text/x-python",
   "name": "python",
   "nbconvert_exporter": "python",
   "pygments_lexer": "ipython2",
   "version": "2.7.14+"
  }
 },
 "nbformat": 4,
 "nbformat_minor": 2
}
