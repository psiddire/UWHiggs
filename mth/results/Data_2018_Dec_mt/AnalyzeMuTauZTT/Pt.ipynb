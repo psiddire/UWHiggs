{
 "cells": [
  {
   "cell_type": "code",
   "execution_count": 1,
   "metadata": {},
   "outputs": [
    {
     "name": "stdout",
     "output_type": "stream",
     "text": [
      "Welcome to JupyROOT 6.12/07\n"
     ]
    }
   ],
   "source": [
    "import os\n",
    "from sys import argv, stdout, stderr\n",
    "from ROOT import TFile, gROOT, TCanvas, TLegend\n",
    "import sys                                                                                                                                                                                                                                                  \n",
    "gROOT.SetStyle(\"Plain\")                                                                                                                                                                                                                                           \n",
    "gROOT.SetBatch(True)"
   ]
  },
  {
   "cell_type": "code",
   "execution_count": 2,
   "metadata": {},
   "outputs": [],
   "source": [
    "def positivize(histogram):\n",
    "    output = histogram.Clone()\n",
    "    for i in range(output.GetSize()):\n",
    "        if output.GetArray()[i] < 0:\n",
    "            output.AddAt(0, i)\n",
    "    return output"
   ]
  },
  {
   "cell_type": "code",
   "execution_count": 3,
   "metadata": {},
   "outputs": [],
   "source": [
    "fmc = TFile('MC.root')\n",
    "fdata = TFile('QCD_Pt-20toInf_MuEnrichedPt15_TuneCP5_13TeV_pythia8_v14-v1.root')\n",
    "femb = TFile('Embed.root')\n",
    "fm = TFile('Monte.root')\n",
    "\n",
    "ht = fdata.Get('TauLooseOS0Jet/mPt')\n",
    "hm = fdata.Get('MuonLooseOS0Jet/mPt')\n",
    "hmt = fdata.Get('MuonLooseTauLooseOS0Jet/mPt')\n",
    "hqcd = ht.Clone()\n",
    "hqcd.Add(hm)\n",
    "hqcd.Add(hmt, -1)\n",
    "hmct = fmc.Get('TauLooseOS0Jet/mPt')\n",
    "hmm = fmc.Get('MuonLooseOS0Jet/mPt')\n",
    "hmmt = fmc.Get('MuonLooseTauLooseOS0Jet/mPt')\n",
    "hmqcd = hmct.Clone()\n",
    "hmqcd.Add(hmm)\n",
    "hmqcd.Add(hmmt, -1)\n",
    "hqcd.Add(hmqcd, -1)\n",
    "hqcd = positivize(hqcd) \n",
    "hdata = fdata.Get('TightOS0Jet/mPt')\n",
    "hemb = femb.Get('TightOS0Jet/mPt')\n",
    "hmo = fm.Get('TightOS0Jet/mPt')\n",
    "hmo.Add(hqcd)\n",
    "h0 = hdata.Clone()\n",
    "h0.Add(hmo, -1)\n",
    "h0 = positivize(h0)\n",
    "h0.Divide(hemb)\n",
    "\n",
    "ht = fdata.Get('TauLooseOS1Jet/mPt')\n",
    "hm = fdata.Get('MuonLooseOS1Jet/mPt')\n",
    "hmt = fdata.Get('MuonLooseTauLooseOS1Jet/mPt')\n",
    "hqcd = ht.Clone()\n",
    "hqcd.Add(hm)\n",
    "hqcd.Add(hmt, -1)\n",
    "hmct = fmc.Get('TauLooseOS1Jet/mPt')\n",
    "hmm = fmc.Get('MuonLooseOS1Jet/mPt')\n",
    "hmmt = fmc.Get('MuonLooseTauLooseOS1Jet/mPt')\n",
    "hmqcd = hmct.Clone()\n",
    "hmqcd.Add(hmm)\n",
    "hmqcd.Add(hmmt, -1)\n",
    "hqcd.Add(hmqcd, -1)\n",
    "hqcd = positivize(hqcd) \n",
    "hdata = fdata.Get('TightOS1Jet/mPt')\n",
    "hemb = femb.Get('TightOS1Jet/mPt')\n",
    "hmo = fm.Get('TightOS1Jet/mPt')\n",
    "hmo.Add(hqcd)\n",
    "h1 = hdata.Clone()\n",
    "h1.Add(hmo, -1)\n",
    "h1 = positivize(h1)\n",
    "h1.Divide(hemb)\n",
    "\n",
    "ht = fdata.Get('TauLooseOS2Jet/mPt')\n",
    "hm = fdata.Get('MuonLooseOS2Jet/mPt')\n",
    "hmt = fdata.Get('MuonLooseTauLooseOS2Jet/mPt')\n",
    "hqcd = ht.Clone()\n",
    "hqcd.Add(hm)\n",
    "hqcd.Add(hmt, -1)\n",
    "hmct = fmc.Get('TauLooseOS2Jet/mPt')\n",
    "hmm = fmc.Get('MuonLooseOS2Jet/mPt')\n",
    "hmmt = fmc.Get('MuonLooseTauLooseOS2Jet/mPt')\n",
    "hmqcd = hmct.Clone()\n",
    "hmqcd.Add(hmm)\n",
    "hmqcd.Add(hmmt, -1)\n",
    "hqcd.Add(hmqcd, -1)\n",
    "hqcd = positivize(hqcd) \n",
    "hdata = fdata.Get('TightOS2Jet/mPt')\n",
    "hemb = femb.Get('TightOS2Jet/mPt')\n",
    "hmo = fm.Get('TightOS2Jet/mPt')\n",
    "hmo.Add(hqcd)\n",
    "h2 = hdata.Clone()\n",
    "h2.Add(hmo, -1)\n",
    "h2 = positivize(h2)\n",
    "h2.Divide(hemb)\n",
    "\n",
    "ht = fdata.Get('TauLooseOS2JetVBF/mPt')\n",
    "hm = fdata.Get('MuonLooseOS2JetVBF/mPt')\n",
    "hmt = fdata.Get('MuonLooseTauLooseOS2JetVBF/mPt')\n",
    "hqcd = ht.Clone()\n",
    "hqcd.Add(hm)\n",
    "hqcd.Add(hmt, -1)\n",
    "hmct = fmc.Get('TauLooseOS2JetVBF/mPt')\n",
    "hmm = fmc.Get('MuonLooseOS2JetVBF/mPt')\n",
    "hmmt = fmc.Get('MuonLooseTauLooseOS2JetVBF/mPt')\n",
    "hmqcd = hmct.Clone()\n",
    "hmqcd.Add(hmm)\n",
    "hmqcd.Add(hmmt, -1)\n",
    "hqcd.Add(hmqcd, -1)\n",
    "hqcd = positivize(hqcd) \n",
    "hdata = fdata.Get('TightOS2JetVBF/mPt')\n",
    "hemb = femb.Get('TightOS2JetVBF/mPt')\n",
    "hmo = fm.Get('TightOS2JetVBF/mPt')\n",
    "hmo.Add(hqcd)\n",
    "h3 = hdata.Clone()\n",
    "h3.Add(hmo, -1)\n",
    "h3 = positivize(h3)\n",
    "h3.Divide(hemb)\n",
    "\n",
    "ht.Delete()\n",
    "hm.Delete()\n",
    "hmt.Delete()\n",
    "hqcd.Delete()\n",
    "hmct.Delete()\n",
    "hmm.Delete()\n",
    "hmmt.Delete()\n",
    "hmqcd.Delete()\n",
    "hdata.Delete()\n",
    "hemb.Delete()\n",
    "hmo.Delete()\n",
    "\n",
    "f = TFile('Pt.root',\"RECREATE\")\n",
    "f.cd()\n",
    "\n",
    "h0.SetName(\"0Jet\")\n",
    "h1.SetName(\"1Jet\")\n",
    "h2.SetName(\"2Jet\")\n",
    "h3.SetName(\"2JetVBF\")\n",
    "h0.Write()\n",
    "h1.Write()\n",
    "h2.Write()\n",
    "h3.Write()\n",
    "f.Close()"
   ]
  },
  {
   "cell_type": "code",
   "execution_count": 6,
   "metadata": {},
   "outputs": [
    {
     "name": "stderr",
     "output_type": "stream",
     "text": [
      "Warning in <TCanvas::Constructor>: Deleting canvas with same name: \n"
     ]
    },
    {
     "data": {
      "image/png": "[encoded data removed]",
      "text/plain": [
       "<IPython.core.display.Image object>"
      ]
     },
     "metadata": {},
     "output_type": "display_data"
    }
   ],
   "source": [
    "canvas = TCanvas(\"\", \"\", 800, 800)\n",
    "f = TFile('Pt.root')\n",
    "h = f.Get('0Jet')\n",
    "h.Draw()\n",
    "canvas.Draw()"
   ]
  },
  {
   "cell_type": "code",
   "execution_count": null,
   "metadata": {},
   "outputs": [],
   "source": []
  }
 ],
 "metadata": {
  "kernelspec": {
   "display_name": "Python 2",
   "language": "python",
   "name": "python2"
  },
  "language_info": {
   "codemirror_mode": {
    "name": "ipython",
    "version": 2
   },
   "file_extension": ".py",
   "mimetype": "text/x-python",
   "name": "python",
   "nbconvert_exporter": "python",
   "pygments_lexer": "ipython2",
   "version": "2.7.14+"
  }
 },
 "nbformat": 4,
 "nbformat_minor": 2
}
