{
 "cells": [
  {
   "cell_type": "code",
   "execution_count": 1,
   "metadata": {},
   "outputs": [
    {
     "name": "stdout",
     "output_type": "stream",
     "text": [
      "Welcome to JupyROOT 6.12/07\n"
     ]
    }
   ],
   "source": [
    "import os\n",
    "from sys import argv, stdout, stderr\n",
    "from ROOT import TFile, gROOT, TCanvas, TLegend\n",
    "import sys                                                                                                                                                                                                                                                  \n",
    "gROOT.SetStyle(\"Plain\")                                                                                                                                                                                                                                           \n",
    "gROOT.SetBatch(True)"
   ]
  },
  {
   "cell_type": "code",
   "execution_count": 2,
   "metadata": {},
   "outputs": [],
   "source": [
    "def positivize(histogram):\n",
    "    output = histogram.Clone()\n",
    "    for i in range(output.GetSize()):\n",
    "        if output.GetArray()[i] < 0:\n",
    "            output.AddAt(0, i)\n",
    "    return output"
   ]
  },
  {
   "cell_type": "code",
   "execution_count": 3,
   "metadata": {},
   "outputs": [],
   "source": [
    "fmc = TFile('MC.root')\n",
    "fdata = TFile('QCD_Pt-20toInf_MuEnrichedPt15_TuneCP5_13TeV_pythia8_v14-v1.root')\n",
    "femb = TFile('Embed.root')\n",
    "fm = TFile('Monte.root')\n",
    "\n",
    "ht = fdata.Get('TauLooseOS0Jet/eEta')\n",
    "he = fdata.Get('EleLooseOS0Jet/eEta')\n",
    "het = fdata.Get('EleLooseTauLooseOS0Jet/eEta')\n",
    "hqcd = ht.Clone()\n",
    "hqcd.Add(he)\n",
    "hqcd.Add(het, -1)\n",
    "hmt = fmc.Get('TauLooseOS0Jet/eEta')\n",
    "hme = fmc.Get('EleLooseOS0Jet/eEta')\n",
    "hmet = fmc.Get('EleLooseTauLooseOS0Jet/eEta')\n",
    "hmqcd = hmt.Clone()\n",
    "hmqcd.Add(hme)\n",
    "hmqcd.Add(hmet, -1)\n",
    "hqcd.Add(hmqcd, -1)\n",
    "hqcd = positivize(hqcd) \n",
    "hdata = fdata.Get('TightOS0Jet/eEta')\n",
    "hemb = femb.Get('TightOS0Jet/eEta')\n",
    "hm = fm.Get('TightOS0Jet/eEta')\n",
    "hm.Add(hqcd)\n",
    "h0 = hdata.Clone()\n",
    "h0.Add(hm, -1)\n",
    "h0 = positivize(h0)\n",
    "h0.Divide(hemb)\n",
    "\n",
    "ht = fdata.Get('TauLooseOS1Jet/eEta')\n",
    "he = fdata.Get('EleLooseOS1Jet/eEta')\n",
    "het = fdata.Get('EleLooseTauLooseOS1Jet/eEta')\n",
    "hqcd = ht.Clone()\n",
    "hqcd.Add(he)\n",
    "hqcd.Add(het, -1)\n",
    "hmt = fmc.Get('TauLooseOS1Jet/eEta')\n",
    "hme = fmc.Get('EleLooseOS1Jet/eEta')\n",
    "hmet = fmc.Get('EleLooseTauLooseOS1Jet/eEta')\n",
    "hmqcd = hmt.Clone()\n",
    "hmqcd.Add(hme)\n",
    "hmqcd.Add(hmet, -1)\n",
    "hqcd.Add(hmqcd, -1)\n",
    "hqcd = positivize(hqcd) \n",
    "hdata = fdata.Get('TightOS1Jet/eEta')\n",
    "hemb = femb.Get('TightOS1Jet/eEta')\n",
    "hm = fm.Get('TightOS1Jet/eEta')\n",
    "hm.Add(hqcd)\n",
    "h1 = hdata.Clone()\n",
    "h1.Add(hm, -1)\n",
    "h1 = positivize(h1)\n",
    "h1.Divide(hemb)\n",
    "\n",
    "ht = fdata.Get('TauLooseOS2Jet/eEta')\n",
    "he = fdata.Get('EleLooseOS2Jet/eEta')\n",
    "het = fdata.Get('EleLooseTauLooseOS2Jet/eEta')\n",
    "hqcd = ht.Clone()\n",
    "hqcd.Add(he)\n",
    "hqcd.Add(het, -1)\n",
    "hmt = fmc.Get('TauLooseOS2Jet/eEta')\n",
    "hme = fmc.Get('EleLooseOS2Jet/eEta')\n",
    "hmet = fmc.Get('EleLooseTauLooseOS2Jet/eEta')\n",
    "hmqcd = hmt.Clone()\n",
    "hmqcd.Add(hme)\n",
    "hmqcd.Add(hmet, -1)\n",
    "hqcd.Add(hmqcd, -1)\n",
    "hqcd = positivize(hqcd) \n",
    "hdata = fdata.Get('TightOS2Jet/eEta')\n",
    "hemb = femb.Get('TightOS2Jet/eEta')\n",
    "hm = fm.Get('TightOS2Jet/eEta')\n",
    "hm.Add(hqcd)\n",
    "h2 = hdata.Clone()\n",
    "h2.Add(hm, -1)\n",
    "h2 = positivize(h2)\n",
    "h2.Divide(hemb)\n",
    "\n",
    "ht = fdata.Get('TauLooseOS2JetVBF/eEta')\n",
    "he = fdata.Get('EleLooseOS2JetVBF/eEta')\n",
    "het = fdata.Get('EleLooseTauLooseOS2JetVBF/eEta')\n",
    "hqcd = ht.Clone()\n",
    "hqcd.Add(he)\n",
    "hqcd.Add(het, -1)\n",
    "hmt = fmc.Get('TauLooseOS2JetVBF/eEta')\n",
    "hme = fmc.Get('EleLooseOS2JetVBF/eEta')\n",
    "hmet = fmc.Get('EleLooseTauLooseOS2JetVBF/eEta')\n",
    "hmqcd = hmt.Clone()\n",
    "hmqcd.Add(hme)\n",
    "hmqcd.Add(hmet, -1)\n",
    "hqcd.Add(hmqcd, -1)\n",
    "hqcd = positivize(hqcd) \n",
    "hdata = fdata.Get('TightOS2JetVBF/eEta')\n",
    "hemb = femb.Get('TightOS2JetVBF/eEta')\n",
    "hm = fm.Get('TightOS2JetVBF/eEta')\n",
    "hm.Add(hqcd)\n",
    "h3 = hdata.Clone()\n",
    "h3.Add(hm, -1)\n",
    "h3 = positivize(h3)\n",
    "h3.Divide(hemb)\n",
    "\n",
    "ht.Delete()\n",
    "he.Delete()\n",
    "het.Delete()\n",
    "hqcd.Delete()\n",
    "hmt.Delete()\n",
    "hme.Delete()\n",
    "hmet.Delete()\n",
    "hmqcd.Delete()\n",
    "hdata.Delete()\n",
    "hemb.Delete()\n",
    "hm.Delete()\n",
    "\n",
    "f = TFile('Eta.root',\"RECREATE\")\n",
    "f.cd()\n",
    "\n",
    "h0.SetName(\"0Jet\")\n",
    "h1.SetName(\"1Jet\")\n",
    "h2.SetName(\"2Jet\")\n",
    "h3.SetName(\"2JetVBF\")\n",
    "h0.Write()\n",
    "h1.Write()\n",
    "h2.Write()\n",
    "h3.Write()\n",
    "f.Close()"
   ]
  },
  {
   "cell_type": "code",
   "execution_count": 6,
   "metadata": {},
   "outputs": [
    {
     "name": "stderr",
     "output_type": "stream",
     "text": [
      "Warning in <TCanvas::Constructor>: Deleting canvas with same name: \n"
     ]
    },
    {
     "data": {
      "image/png": "[encoded data removed]",
      "text/plain": [
       "<IPython.core.display.Image object>"
      ]
     },
     "metadata": {},
     "output_type": "display_data"
    }
   ],
   "source": [
    "canvas = TCanvas(\"\", \"\", 800, 800)\n",
    "f = TFile('Eta.root')\n",
    "h = f.Get('0Jet')\n",
    "h.Draw()\n",
    "canvas.Draw()"
   ]
  },
  {
   "cell_type": "code",
   "execution_count": null,
   "metadata": {},
   "outputs": [],
   "source": []
  }
 ],
 "metadata": {
  "kernelspec": {
   "display_name": "Python 2",
   "language": "python",
   "name": "python2"
  },
  "language_info": {
   "codemirror_mode": {
    "name": "ipython",
    "version": 2
   },
   "file_extension": ".py",
   "mimetype": "text/x-python",
   "name": "python",
   "nbconvert_exporter": "python",
   "pygments_lexer": "ipython2",
   "version": "2.7.14+"
  }
 },
 "nbformat": 4,
 "nbformat_minor": 2
}
