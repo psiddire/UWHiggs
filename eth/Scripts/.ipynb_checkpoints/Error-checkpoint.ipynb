{
 "cells": [
  {
   "cell_type": "code",
   "execution_count": 1,
   "metadata": {},
   "outputs": [
    {
     "name": "stdout",
     "output_type": "stream",
     "text": [
      "Welcome to JupyROOT 6.12/07\n"
     ]
    }
   ],
   "source": [
    "import os\n",
    "from sys import argv, stdout, stderr\n",
    "from ROOT import TFile, gROOT, TCanvas, TLegend\n",
    "import glob\n",
    "import sys                                                                                                                                                                                                                                                  \n",
    "gROOT.SetStyle(\"Plain\")                                                                                                                                                                                                                                           \n",
    "gROOT.SetBatch(True)"
   ]
  },
  {
   "cell_type": "code",
   "execution_count": 4,
   "metadata": {},
   "outputs": [
    {
     "data": {
      "text/plain": [
       "0.0"
      ]
     },
     "execution_count": 4,
     "metadata": {},
     "output_type": "execute_result"
    }
   ],
   "source": [
    "f = TFile('Shapes/shapesET.root', 'Update')\n",
    "h = f.Get('1jet/Zothers')\n",
    "h.SetBinError(27, 0)\n",
    "h.GetBinError(27)"
   ]
  },
  {
   "cell_type": "code",
   "execution_count": null,
   "metadata": {},
   "outputs": [],
   "source": []
  }
 ],
 "metadata": {
  "kernelspec": {
   "display_name": "Python 2",
   "language": "python",
   "name": "python2"
  },
  "language_info": {
   "codemirror_mode": {
    "name": "ipython",
    "version": 2
   },
   "file_extension": ".py",
   "mimetype": "text/x-python",
   "name": "python",
   "nbconvert_exporter": "python",
   "pygments_lexer": "ipython2",
   "version": "2.7.14+"
  }
 },
 "nbformat": 4,
 "nbformat_minor": 2
}
