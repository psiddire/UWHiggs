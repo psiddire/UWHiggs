{
 "cells": [
  {
   "cell_type": "code",
   "execution_count": 2,
   "metadata": {},
   "outputs": [
    {
     "name": "stdout",
     "output_type": "stream",
     "text": [
      "Welcome to JupyROOT 6.12/07\n"
     ]
    }
   ],
   "source": [
    "from ROOT import TFile, TIter, TCanvas, gROOT, gStyle\n",
    "gROOT.SetStyle(\"Default\")\n",
    "gROOT.SetBatch(True)\n",
    "gStyle.SetOptTitle(0)"
   ]
  },
  {
   "cell_type": "code",
   "execution_count": 3,
   "metadata": {},
   "outputs": [
    {
     "data": {
      "text/plain": [
       "['GluGlu_LFV_HToETau_M125_TuneCP5_PSweights_13TeV_powheg_pythia8_-102X_upgrade2018_realistic_v15-v1.root']"
      ]
     },
     "execution_count": 3,
     "metadata": {},
     "output_type": "execute_result"
    }
   ],
   "source": [
    "from os import listdir\n",
    "mypath = \"results/MCLHE2018/AnalyzeEMuCF/\"\n",
    "onlyfiles = [f for f in listdir(mypath)]\n",
    "onlyfiles"
   ]
  },
  {
   "cell_type": "code",
   "execution_count": 4,
   "metadata": {},
   "outputs": [
    {
     "name": "stderr",
     "output_type": "stream",
     "text": [
      "Info in <TCanvas::Print>: ps file cutflow.ps has been created\n"
     ]
    }
   ],
   "source": [
    "canvas = TCanvas(\"canvas\",\"canvas\",800,800)\n",
    "canvas.Print(\"cutflow.ps[\")\n",
    "for i,file in enumerate(onlyfiles): \n",
    "    MuTaufile = TFile(mypath+file)\n",
    "    cutflowhisto = MuTaufile.Get('./CUT_FLOW')\n",
    "    ind = file.index(\"13TeV\")\n",
    "    file =file[:ind-1]\n",
    "    cutflowhisto.GetYaxis().SetTitle(file)\n",
    "    cutflowhisto.GetYaxis().SetTitleOffset(1.5)\n",
    "    cutflowhisto.Draw(\"hist\")"
   ]
  },
  {
   "cell_type": "code",
   "execution_count": null,
   "metadata": {
    "collapsed": true
   },
   "outputs": [],
   "source": []
  }
 ],
 "metadata": {
  "kernelspec": {
   "display_name": "Python 2",
   "language": "python",
   "name": "python2"
  },
  "language_info": {
   "codemirror_mode": {
    "name": "ipython",
    "version": 2
   },
   "file_extension": ".py",
   "mimetype": "text/x-python",
   "name": "python",
   "nbconvert_exporter": "python",
   "pygments_lexer": "ipython2",
   "version": "2.7.14+"
  }
 },
 "nbformat": 4,
 "nbformat_minor": 2
}
