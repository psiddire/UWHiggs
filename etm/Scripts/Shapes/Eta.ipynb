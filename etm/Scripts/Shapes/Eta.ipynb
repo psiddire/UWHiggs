{
 "cells": [
  {
   "cell_type": "code",
   "execution_count": 1,
   "metadata": {},
   "outputs": [
    {
     "name": "stdout",
     "output_type": "stream",
     "text": [
      "Welcome to JupyROOT 6.12/07\n"
     ]
    }
   ],
   "source": [
    "import os\n",
    "from sys import argv, stdout, stderr\n",
    "from ROOT import TFile, gROOT, TCanvas, TLegend\n",
    "import sys                                                                                                                                                                                                                                                  \n",
    "gROOT.SetStyle(\"Plain\")                                                                                                                                                                                                                                           \n",
    "gROOT.SetBatch(True)"
   ]
  },
  {
   "cell_type": "code",
   "execution_count": 2,
   "metadata": {},
   "outputs": [],
   "source": [
    "def positivize(histogram):\n",
    "    output = histogram.Clone()\n",
    "    for i in range(output.GetSize()):\n",
    "        if output.GetArray()[i] < 0:\n",
    "            output.AddAt(0, i)\n",
    "    return output"
   ]
  },
  {
   "cell_type": "code",
   "execution_count": 9,
   "metadata": {},
   "outputs": [
    {
     "name": "stdout",
     "output_type": "stream",
     "text": [
      "1001.38909912 871.10534668 590.394836426\n",
      "37.8384612718 34.2486727382 25.1461692476\n"
     ]
    }
   ],
   "source": [
    "f = TFile('WJets/shapesEMuBDTQCD.root')\n",
    "h = f.Get('0jet/QCD')\n",
    "\n",
    "print h.GetBinContent(13), h.GetBinContent(14), h.GetBinContent(15)\n",
    "print h.GetBinError(13), h.GetBinError(14), h.GetBinError(15)"
   ]
  },
  {
   "cell_type": "code",
   "execution_count": 10,
   "metadata": {},
   "outputs": [
    {
     "name": "stdout",
     "output_type": "stream",
     "text": [
      "1001.38909912 871.10534668 590.394836426\n",
      "34.0754884677 30.8069751357 23.3238437266\n"
     ]
    }
   ],
   "source": [
    "f = TFile('shapesEMuBDTQCD.root')\n",
    "h = f.Get('0jet/QCD')\n",
    "\n",
    "print h.GetBinContent(13), h.GetBinContent(14), h.GetBinContent(15)\n",
    "print h.GetBinError(13), h.GetBinError(14), h.GetBinError(15)"
   ]
  },
  {
   "cell_type": "code",
   "execution_count": null,
   "metadata": {},
   "outputs": [],
   "source": []
  }
 ],
 "metadata": {
  "kernelspec": {
   "display_name": "Python 2",
   "language": "python",
   "name": "python2"
  },
  "language_info": {
   "codemirror_mode": {
    "name": "ipython",
    "version": 2
   },
   "file_extension": ".py",
   "mimetype": "text/x-python",
   "name": "python",
   "nbconvert_exporter": "python",
   "pygments_lexer": "ipython2",
   "version": "2.7.14+"
  }
 },
 "nbformat": 4,
 "nbformat_minor": 2
}
