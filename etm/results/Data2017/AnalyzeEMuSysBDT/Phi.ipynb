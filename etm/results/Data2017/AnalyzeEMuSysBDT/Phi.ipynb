{
 "cells": [
  {
   "cell_type": "code",
   "execution_count": 1,
   "metadata": {},
   "outputs": [
    {
     "name": "stdout",
     "output_type": "stream",
     "text": [
      "Welcome to JupyROOT 6.12/07\n"
     ]
    }
   ],
   "source": [
    "import os\n",
    "from sys import argv, stdout, stderr\n",
    "from ROOT import TFile, gROOT, TCanvas, TLegend\n",
    "import sys                                                                                                                                                                                                                                                  \n",
    "gROOT.SetStyle(\"Plain\")                                                                                                                                                                                                                                           \n",
    "gROOT.SetBatch(True)"
   ]
  },
  {
   "cell_type": "code",
   "execution_count": 2,
   "metadata": {},
   "outputs": [],
   "source": [
    "def positivize(histogram):\n",
    "    output = histogram.Clone()\n",
    "    for i in range(output.GetSize()):\n",
    "        if output.GetArray()[i] < 0:\n",
    "            output.AddAt(0, i)\n",
    "    return output"
   ]
  },
  {
   "cell_type": "code",
   "execution_count": 9,
   "metadata": {},
   "outputs": [
    {
     "name": "stdout",
     "output_type": "stream",
     "text": [
      "45971.9689285\n",
      "18715.4430468\n",
      "5068.31898133\n",
      "648.526949165\n"
     ]
    }
   ],
   "source": [
    "fb = TFile('Background.root')\n",
    "fd = TFile('Observed.root')\n",
    "\n",
    "hb = fb.Get('TightSS0Jet/bdtDiscriminator')\n",
    "hd = fd.Get('TightSS0Jet/bdtDiscriminator')\n",
    "print hd.Integral()-hb.Integral()\n",
    "hb = fb.Get('TightSS1Jet/bdtDiscriminator')\n",
    "hd = fd.Get('TightSS1Jet/bdtDiscriminator')\n",
    "print hd.Integral()-hb.Integral()\n",
    "hb = fb.Get('TightSS2Jet/bdtDiscriminator')\n",
    "hd = fd.Get('TightSS2Jet/bdtDiscriminator')\n",
    "print hd.Integral()-hb.Integral()\n",
    "hb = fb.Get('TightSS2JetVBF/bdtDiscriminator')\n",
    "hd = fd.Get('TightSS2JetVBF/bdtDiscriminator')\n",
    "print hd.Integral()-hb.Integral()"
   ]
  },
  {
   "cell_type": "code",
   "execution_count": null,
   "metadata": {},
   "outputs": [],
   "source": []
  }
 ],
 "metadata": {
  "kernelspec": {
   "display_name": "Python 2",
   "language": "python",
   "name": "python2"
  },
  "language_info": {
   "codemirror_mode": {
    "name": "ipython",
    "version": 2
   },
   "file_extension": ".py",
   "mimetype": "text/x-python",
   "name": "python",
   "nbconvert_exporter": "python",
   "pygments_lexer": "ipython2",
   "version": "2.7.14+"
  }
 },
 "nbformat": 4,
 "nbformat_minor": 2
}
