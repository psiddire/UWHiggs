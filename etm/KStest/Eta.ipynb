{
 "cells": [
  {
   "cell_type": "code",
   "execution_count": 1,
   "metadata": {},
   "outputs": [
    {
     "name": "stdout",
     "output_type": "stream",
     "text": [
      "Welcome to JupyROOT 6.12/07\n"
     ]
    }
   ],
   "source": [
    "import os\n",
    "from sys import argv, stdout, stderr\n",
    "from ROOT import TFile, gROOT, TCanvas, TLegend\n",
    "import sys                                                                                                                                                                                                                                                  \n",
    "gROOT.SetStyle(\"Plain\")                                                                                                                                                                                                                                           \n",
    "gROOT.SetBatch(True)"
   ]
  },
  {
   "cell_type": "code",
   "execution_count": 2,
   "metadata": {},
   "outputs": [],
   "source": [
    "def positivize(histogram):\n",
    "    output = histogram.Clone()\n",
    "    for i in range(output.GetSize()):\n",
    "        if output.GetArray()[i] < 0:\n",
    "            output.AddAt(0, i)\n",
    "    return output"
   ]
  },
  {
   "cell_type": "code",
   "execution_count": 26,
   "metadata": {},
   "outputs": [
    {
     "name": "stdout",
     "output_type": "stream",
     "text": [
      "0.714751637631 0.999977564757\n"
     ]
    },
    {
     "name": "stderr",
     "output_type": "stream",
     "text": [
      "Warning in <TCanvas::Constructor>: Deleting canvas with same name: \n",
      "Info in <TH1F::Chi2TestX>: There is a bin in h1 with less than 10 effective events.\n",
      "\n",
      "Info in <TH1F::Chi2TestX>: There is a bin in h2 with less than 10 effective events.\n",
      "\n"
     ]
    }
   ],
   "source": [
    "canvas = TCanvas(\"\", \"\", 800, 800)\n",
    "\n",
    "fdata = TFile('Data.root')\n",
    "fmc = TFile('MC.root')\n",
    "fobs = TFile('Observed.root')\n",
    "fbkg = TFile('Background.root')\n",
    "\n",
    "hmc = fmc.Get('TightSS/bdtDiscriminator')\n",
    "hdata = fdata.Get('TightSS/bdtDiscriminator')\n",
    "hdata.Add(hmc, -1)\n",
    "hqcd = positivize(hdata)\n",
    "hqcd.Scale(1/(hqcd.Integral()))\n",
    "\n",
    "hbkg = fbkg.Get('TightSS/bdtDiscriminator')\n",
    "hobs = fobs.Get('TightSS/bdtDiscriminator')\n",
    "hobs.Add(hbkg, -1)\n",
    "hnqcd = positivize(hobs)\n",
    "hnqcd.Scale(1/(hnqcd.Integral()))\n",
    "#hnqcd.SetLineColor(3)\n",
    "\n",
    "#hnqcd.Draw()\n",
    "#hqcd.Draw(\"SAME\")\n",
    "#canvas.Draw()\n",
    "\n",
    "pKSbinned = hqcd.KolmogorovTest(hnqcd)\n",
    "pCSbinned = hqcd.Chi2Test(hnqcd, \"WW\")\n",
    "print pKSbinned, pCSbinned"
   ]
  },
  {
   "cell_type": "code",
   "execution_count": 27,
   "metadata": {},
   "outputs": [
    {
     "name": "stdout",
     "output_type": "stream",
     "text": [
      "0.539968350473 0.999870109979\n"
     ]
    },
    {
     "name": "stderr",
     "output_type": "stream",
     "text": [
      "Info in <TH1F::Chi2TestX>: There is a bin in h1 with less than 10 effective events.\n",
      "\n",
      "Info in <TH1F::Chi2TestX>: There is a bin in h2 with less than 10 effective events.\n",
      "\n"
     ]
    }
   ],
   "source": [
    "hmc = fmc.Get('TightSS0Jet/bdtDiscriminator')\n",
    "hdata = fdata.Get('TightSS0Jet/bdtDiscriminator')\n",
    "hdata.Add(hmc, -1)\n",
    "hqcd = positivize(hdata)\n",
    "\n",
    "hbkg = fbkg.Get('TightSS0Jet/bdtDiscriminator')\n",
    "hobs = fobs.Get('TightSS0Jet/bdtDiscriminator')\n",
    "hobs.Add(hbkg, -1)\n",
    "hnqcd = positivize(hobs)\n",
    "\n",
    "pKSbinned = hqcd.KolmogorovTest(hnqcd)\n",
    "pCSbinned = hqcd.Chi2Test(hnqcd, \"WW\")\n",
    "print pKSbinned, pCSbinned"
   ]
  },
  {
   "cell_type": "code",
   "execution_count": 28,
   "metadata": {},
   "outputs": [
    {
     "name": "stdout",
     "output_type": "stream",
     "text": [
      "0.999993422169 0.999999388732\n"
     ]
    },
    {
     "name": "stderr",
     "output_type": "stream",
     "text": [
      "Info in <TH1F::Chi2TestX>: There is a bin in h1 with less than 10 effective events.\n",
      "\n",
      "Info in <TH1F::Chi2TestX>: There is a bin in h2 with less than 10 effective events.\n",
      "\n"
     ]
    }
   ],
   "source": [
    "hmc = fmc.Get('TightSS1Jet/bdtDiscriminator')\n",
    "hdata = fdata.Get('TightSS1Jet/bdtDiscriminator')\n",
    "hdata.Add(hmc, -1)\n",
    "hqcd = positivize(hdata)\n",
    "\n",
    "hbkg = fbkg.Get('TightSS1Jet/bdtDiscriminator')\n",
    "hobs = fobs.Get('TightSS1Jet/bdtDiscriminator')\n",
    "hobs.Add(hbkg, -1)\n",
    "hnqcd = positivize(hobs)\n",
    "\n",
    "pKSbinned = hqcd.KolmogorovTest(hnqcd)\n",
    "pCSbinned = hqcd.Chi2Test(hnqcd, \"WW\")\n",
    "print pKSbinned, pCSbinned"
   ]
  },
  {
   "cell_type": "code",
   "execution_count": 29,
   "metadata": {},
   "outputs": [
    {
     "name": "stdout",
     "output_type": "stream",
     "text": [
      "0.997088778886 0.999962345467\n"
     ]
    },
    {
     "name": "stderr",
     "output_type": "stream",
     "text": [
      "Info in <TH1F::Chi2TestX>: There is a bin in h1 with less than 10 effective events.\n",
      "\n",
      "Info in <TH1F::Chi2TestX>: There is a bin in h2 with less than 10 effective events.\n",
      "\n"
     ]
    }
   ],
   "source": [
    "hmc = fmc.Get('TightSS2Jet/bdtDiscriminator')\n",
    "hdata = fdata.Get('TightSS2Jet/bdtDiscriminator')\n",
    "hdata.Add(hmc, -1)\n",
    "hqcd = positivize(hdata)\n",
    "\n",
    "hbkg = fbkg.Get('TightSS2Jet/bdtDiscriminator')\n",
    "hobs = fobs.Get('TightSS2Jet/bdtDiscriminator')\n",
    "hobs.Add(hbkg, -1)\n",
    "hnqcd = positivize(hobs)\n",
    "\n",
    "pKSbinned = hqcd.KolmogorovTest(hnqcd)\n",
    "pCSbinned = hqcd.Chi2Test(hnqcd, \"WW\")\n",
    "print pKSbinned, pCSbinned"
   ]
  },
  {
   "cell_type": "code",
   "execution_count": 30,
   "metadata": {},
   "outputs": [
    {
     "name": "stdout",
     "output_type": "stream",
     "text": [
      "0.999607353428 0.999999940558\n"
     ]
    },
    {
     "name": "stderr",
     "output_type": "stream",
     "text": [
      "Info in <TH1F::Chi2TestX>: There is a bin in h1 with less than 10 effective events.\n",
      "\n",
      "Info in <TH1F::Chi2TestX>: There is a bin in h2 with less than 10 effective events.\n",
      "\n"
     ]
    }
   ],
   "source": [
    "hmc = fmc.Get('TightSS2JetVBF/bdtDiscriminator')\n",
    "hdata = fdata.Get('TightSS2JetVBF/bdtDiscriminator')\n",
    "hdata.Add(hmc, -1)\n",
    "hqcd = positivize(hdata)\n",
    "\n",
    "hbkg = fbkg.Get('TightSS2JetVBF/bdtDiscriminator')\n",
    "hobs = fobs.Get('TightSS2JetVBF/bdtDiscriminator')\n",
    "hobs.Add(hbkg, -1)\n",
    "hnqcd = positivize(hobs)\n",
    "\n",
    "pKSbinned = hqcd.KolmogorovTest(hnqcd)\n",
    "pCSbinned = hqcd.Chi2Test(hnqcd, \"WW\")\n",
    "print pKSbinned, pCSbinned"
   ]
  },
  {
   "cell_type": "code",
   "execution_count": null,
   "metadata": {},
   "outputs": [],
   "source": []
  }
 ],
 "metadata": {
  "kernelspec": {
   "display_name": "Python 2",
   "language": "python",
   "name": "python2"
  },
  "language_info": {
   "codemirror_mode": {
    "name": "ipython",
    "version": 2
   },
   "file_extension": ".py",
   "mimetype": "text/x-python",
   "name": "python",
   "nbconvert_exporter": "python",
   "pygments_lexer": "ipython2",
   "version": "2.7.14+"
  }
 },
 "nbformat": 4,
 "nbformat_minor": 2
}
